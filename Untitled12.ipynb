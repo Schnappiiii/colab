{
  "nbformat": 4,
  "nbformat_minor": 0,
  "metadata": {
    "colab": {
      "name": "Untitled12.ipynb",
      "provenance": [],
      "toc_visible": true,
      "authorship_tag": "ABX9TyOdcL4cxNYhhudWdD/hSeZY",
      "include_colab_link": true
    },
    "kernelspec": {
      "name": "python3",
      "display_name": "Python 3"
    },
    "language_info": {
      "name": "python"
    }
  },
  "cells": [
    {
      "cell_type": "markdown",
      "metadata": {
        "id": "view-in-github",
        "colab_type": "text"
      },
      "source": [
        "<a href=\"https://colab.research.google.com/github/Schnappiiii/colab/blob/main/Untitled12.ipynb\" target=\"_parent\"><img src=\"https://colab.research.google.com/assets/colab-badge.svg\" alt=\"Open In Colab\"/></a>"
      ]
    },
    {
      "cell_type": "markdown",
      "metadata": {
        "id": "L_ARZtQAp5jU"
      },
      "source": [
        ""
      ]
    },
    {
      "cell_type": "code",
      "metadata": {
        "id": "ZSSL6S-uatGo"
      },
      "source": [
        "import numpy as np\n",
        "import os\n",
        "import sysimport"
      ],
      "execution_count": null,
      "outputs": []
    },
    {
      "cell_type": "markdown",
      "metadata": {
        "id": "HRB0JDD9poDR"
      },
      "source": [
        "#wirte"
      ]
    },
    {
      "cell_type": "markdown",
      "metadata": {
        "id": "-uNGnrDbpQnd"
      },
      "source": [
        "## write some text\n",
        "- This is the introduction to deep\n"
      ]
    },
    {
      "cell_type": "markdown",
      "metadata": {
        "id": "RiTw12XKphQT"
      },
      "source": [
        "### wirte some"
      ]
    },
    {
      "cell_type": "code",
      "metadata": {
        "id": "Qkp4CIjLc3sE"
      },
      "source": [
        ""
      ],
      "execution_count": null,
      "outputs": []
    }
  ]
}